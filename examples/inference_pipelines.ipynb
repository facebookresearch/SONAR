{
 "cells": [
  {
   "cell_type": "markdown",
   "metadata": {},
   "source": [
    "\n",
    "This notebook contains examples of 4 different types of pipelines:\n",
    "* Text to Embedding\n",
    "* Text to Text translation\n",
    "* Speech to Embedding\n",
    "* Speech to Text translation"
   ]
  },
  {
   "cell_type": "markdown",
   "metadata": {},
   "source": [
    "### Install sonar\n",
    "\n",
    "if sonar is not yet installed, install it:"
   ]
  },
  {
   "cell_type": "code",
   "execution_count": null,
   "metadata": {},
   "outputs": [],
   "source": [
    "%pip install --quiet sonar-space"
   ]
  },
  {
   "cell_type": "markdown",
   "metadata": {},
   "source": [
    "### Setup common config"
   ]
  },
  {
   "cell_type": "code",
   "execution_count": 3,
   "metadata": {},
   "outputs": [],
   "source": [
    "import torch\n",
    "\n",
    "device = torch.device(\"cpu\")"
   ]
  },
  {
   "cell_type": "markdown",
   "metadata": {},
   "source": [
    "### Loading Models (speech encoder + text decoder + tokenizer)"
   ]
  },
  {
   "cell_type": "code",
   "execution_count": 2,
   "metadata": {},
   "outputs": [],
   "source": [
    "from sonar.models.sonar_speech.loader import load_sonar_speech_model\n",
    "from sonar.models.sonar_text import (\n",
    "    load_sonar_text_decoder_model,\n",
    "    load_sonar_text_encoder_model,\n",
    "    load_sonar_tokenizer,\n",
    ")"
   ]
  },
  {
   "cell_type": "code",
   "execution_count": 4,
   "metadata": {},
   "outputs": [],
   "source": [
    "speech_encoder_model = load_sonar_speech_model(\n",
    "    \"sonar_speech_encoder_eng\", device=device\n",
    ").eval()"
   ]
  },
  {
   "cell_type": "code",
   "execution_count": 5,
   "metadata": {},
   "outputs": [],
   "source": [
    "text_encoder_model = load_sonar_text_encoder_model(\n",
    "    \"text_sonar_basic_encoder\", device=device\n",
    ").eval()"
   ]
  },
  {
   "cell_type": "code",
   "execution_count": 6,
   "metadata": {},
   "outputs": [],
   "source": [
    "text_decoder_model = load_sonar_text_decoder_model(\n",
    "    \"text_sonar_basic_decoder\", device=device\n",
    ").eval()"
   ]
  },
  {
   "cell_type": "code",
   "execution_count": 7,
   "metadata": {},
   "outputs": [],
   "source": [
    "# tokenizer is compatible with nllb tokenizer logic already\n",
    "text_tokenizer = load_sonar_tokenizer(\"text_sonar_basic_encoder\")"
   ]
  },
  {
   "cell_type": "markdown",
   "metadata": {},
   "source": [
    "### Running Speech Data Pipelines"
   ]
  },
  {
   "cell_type": "code",
   "execution_count": 8,
   "metadata": {},
   "outputs": [],
   "source": [
    "from sonar.inference_pipelines.speech import (\n",
    "    SpeechToEmbeddingModelPipeline,\n",
    "    SpeechToTextModelPipeline,\n",
    ")"
   ]
  },
  {
   "cell_type": "code",
   "execution_count": 10,
   "metadata": {},
   "outputs": [
    {
     "data": {
      "text/plain": [
       "tensor([[ 3.6588e-03,  1.7128e-03,  9.0594e-03,  ...,  5.7871e-05,\n",
       "          4.5227e-03, -2.3104e-03],\n",
       "        [ 7.0923e-04,  6.1351e-03, -2.6858e-03,  ...,  2.6961e-03,\n",
       "         -6.0307e-03,  1.7454e-03]])"
      ]
     },
     "execution_count": 10,
     "metadata": {},
     "output_type": "execute_result"
    }
   ],
   "source": [
    "s2vec_model = SpeechToEmbeddingModelPipeline(encoder=speech_encoder_model)\n",
    "s2vec_model.predict(\n",
    "    [\n",
    "        \"../tests/integration_tests/data/audio_files/audio_1.wav\",\n",
    "        \"../tests/integration_tests/data/audio_files/audio_2.wav\",\n",
    "    ]\n",
    ")"
   ]
  },
  {
   "cell_type": "code",
   "execution_count": 12,
   "metadata": {},
   "outputs": [
    {
     "data": {
      "text/plain": [
       "['Television reports show white smoke coming from the plant.',\n",
       " 'These couples may choose to make an adoption plan for their baby.']"
      ]
     },
     "execution_count": 12,
     "metadata": {},
     "output_type": "execute_result"
    }
   ],
   "source": [
    "s2t_model = SpeechToTextModelPipeline(\n",
    "    encoder=speech_encoder_model, decoder=text_decoder_model, tokenizer=text_tokenizer\n",
    ")\n",
    "\n",
    "s2t_model.predict(\n",
    "    [\n",
    "        \"../tests/integration_tests/data/audio_files/audio_1.wav\",\n",
    "        \"../tests/integration_tests/data/audio_files/audio_2.wav\",\n",
    "    ],\n",
    "    target_lang=\"eng_Latn\",\n",
    ")"
   ]
  },
  {
   "cell_type": "markdown",
   "metadata": {},
   "source": [
    "### Running Text Data Pipeline"
   ]
  },
  {
   "cell_type": "code",
   "execution_count": 13,
   "metadata": {},
   "outputs": [],
   "source": [
    "from sonar.inference_pipelines.text import (\n",
    "    TextToEmbeddingModelPipeline,\n",
    "    TextToTextModelPipeline,\n",
    ")"
   ]
  },
  {
   "cell_type": "code",
   "execution_count": 14,
   "metadata": {},
   "outputs": [],
   "source": [
    "text_embedding_pipeline = TextToEmbeddingModelPipeline(\n",
    "    text_encoder_model, text_tokenizer\n",
    ")\n",
    "text_to_text_pipeline = TextToTextModelPipeline(\n",
    "    text_encoder_model, text_decoder_model, text_tokenizer\n",
    ")"
   ]
  },
  {
   "cell_type": "markdown",
   "metadata": {},
   "source": [
    "#### Applying models"
   ]
  },
  {
   "cell_type": "code",
   "execution_count": 16,
   "metadata": {},
   "outputs": [
    {
     "data": {
      "text/plain": [
       "tensor([[ 1.3900e-02,  7.9963e-03, -1.3692e-02,  ..., -4.1727e-03,\n",
       "          8.6479e-03,  1.1009e-03],\n",
       "        [ 2.6909e-03,  1.3037e-02, -4.8724e-03,  ..., -7.1355e-03,\n",
       "          2.3920e-04,  8.0676e-03],\n",
       "        [-6.1483e-03, -1.0119e-03,  5.2443e-03,  ..., -8.6812e-03,\n",
       "         -5.3998e-03,  3.4272e-03],\n",
       "        ...,\n",
       "        [-3.0806e-03, -4.0161e-03,  8.5773e-03,  ..., -5.5559e-03,\n",
       "         -3.8027e-03, -9.9625e-03],\n",
       "        [ 2.0388e-02,  1.9085e-04, -5.5832e-05,  ..., -8.3714e-04,\n",
       "         -4.2589e-03, -4.5399e-03],\n",
       "        [-1.3931e-03,  1.5254e-03,  5.5113e-03,  ..., -5.0019e-03,\n",
       "          1.3234e-02,  3.0003e-03]])"
      ]
     },
     "execution_count": 16,
     "metadata": {},
     "output_type": "execute_result"
    }
   ],
   "source": [
    "data_source = \"./data/eng_flores200_dev_sample.tsv\"\n",
    "text_emb = text_embedding_pipeline.predict(data_source, source_lang=\"eng_Latn\")\n",
    "text_emb"
   ]
  },
  {
   "cell_type": "code",
   "execution_count": 17,
   "metadata": {},
   "outputs": [
    {
     "data": {
      "text/plain": [
       "['Nombre',\n",
       " 'Nous avons maintenant des souris âgées de 4 mois qui ne sont pas diabétiques et qui étaient autrefois diabétiques, a-t-il ajouté.',\n",
       " \"Le docteur Ehud Ur, professeur de médecine à l'université Dalhousie à Halifax, en Nouvelle-Écosse, et président de la division clinique et scientifique de l'Association canadienne du diabète, a averti que la recherche était encore à ses débuts.\",\n",
       " \"À l'instar d'autres spécialistes, il est sceptique quant à savoir si le diabète peut être guéri, notant que ces découvertes n'ont pas d'importance pour les personnes déjà atteintes de diabète de type 1.\",\n",
       " \"Lundi, Sara Danius, secrétaire permanent du Comité Nobel de littérature à l'Académie suédoise, a annoncé publiquement, lors d'une émission radiophonique à l'émission Sveriges Radio en Suède, que l'équipe incapable de contacter Bob Dylan pour obtenir le prix Nobel de littérature 2016, avait abandonné ses efforts pour le recevoir.\",\n",
       " '\"Danius a dit:\" Pour l\\'instant, nous ne faisons rien. J\\'ai appelé et envoyé des emails à son collaborateur le plus proche et j\\'ai reçu des réponses très amicales. Pour l\\'instant, c\\'est tout à fait suffisant. \"',\n",
       " \"Auparavant, le PDG de Ring, Jamie Siminoff, a déclaré que l'entreprise a commencé quand sa sonnette de porte n'était pas audible depuis son magasin dans son garage.\",\n",
       " 'Il a construit une cloche Wi-Fi, il dit.',\n",
       " \"Siminoff a déclaré que les ventes ont augmenté après son apparition en 2013 dans un épisode de Shark Tank où le panel de l'émission a refusé de financer le démarrage.\",\n",
       " \"À la fin de 2017, Siminoff est apparu sur le canal de télévision d'achat QVC.\",\n",
       " 'Ring a également réglé un procès avec une société de sécurité concurrente, la ADT Corporation.']"
      ]
     },
     "execution_count": 17,
     "metadata": {},
     "output_type": "execute_result"
    }
   ],
   "source": [
    "text_translation = text_to_text_pipeline.predict(\n",
    "    data_source, source_lang=\"eng_Latn\", target_lang=\"fra_Latn\"\n",
    ")\n",
    "text_translation"
   ]
  }
 ],
 "metadata": {
  "kernelspec": {
   "display_name": ".venv",
   "language": "python",
   "name": "python3"
  },
  "language_info": {
   "codemirror_mode": {
    "name": "ipython",
    "version": 3
   },
   "file_extension": ".py",
   "mimetype": "text/x-python",
   "name": "python",
   "nbconvert_exporter": "python",
   "pygments_lexer": "ipython3",
   "version": "3.10.12"
  },
  "orig_nbformat": 4
 },
 "nbformat": 4,
 "nbformat_minor": 2
}
